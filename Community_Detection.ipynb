{
 "cells": [
  {
   "cell_type": "code",
   "execution_count": null,
   "metadata": {},
   "outputs": [],
   "source": [
    "import pandas as pd\n",
    "import igraph as ig\n",
    "import numpy as np\n",
    "from matplotlib import pyplot as plt\n",
    "%matplotlib inline\n",
    "from IPython.display import clear_output"
   ]
  },
  {
   "cell_type": "markdown",
   "metadata": {},
   "source": [
    "### Zachary's Karate "
   ]
  },
  {
   "cell_type": "code",
   "execution_count": null,
   "metadata": {},
   "outputs": [],
   "source": [
    "karate = ig.Graph.Read_GraphML(\"karate.gml\")\n"
   ]
  },
  {
   "cell_type": "code",
   "execution_count": null,
   "metadata": {},
   "outputs": [],
   "source": [
    "ig.plot(karate, 'nocomm_karate.pdf', bbox=(300,300), vertex_label=map(int,karate.vs['id']), vertex_size=2, vertex_color='red', vertex_label_color='dark blue', vertex_label_size=14 ,edge_color='light gray')"
   ]
  },
  {
   "cell_type": "code",
   "execution_count": null,
   "metadata": {},
   "outputs": [],
   "source": [
    "ka = karate.get_adjacency()"
   ]
  },
  {
   "cell_type": "code",
   "execution_count": null,
   "metadata": {},
   "outputs": [],
   "source": [
    "print 'assortativity', karate.assortativity_degree()\n",
    "comp_karate = karate.components().giant().as_undirected(combine_edges='sum')\n",
    "betweenness = comp_karate.betweenness(weights=None)\n",
    "comm_karate = comp_karate.community_edge_betweenness(weights=None)\n",
    "ig.plot(comm_karate.as_clustering(), 'karate.pdf', bbox=[300,300],\n",
    "        vertex_size=ig.rescale(betweenness,out_range=(4,20)),\n",
    "        vertex_label_size=ig.rescale(betweenness,out_range=(10,24)),\n",
    "        vertex_label=map(int,comp_karate.vs['id']),\n",
    "        vertex_label_color='black', edge_color='light gray',\n",
    "        vertex_label_location='under',\n",
    "        vertex_frame_width=0)"
   ]
  },
  {
   "cell_type": "code",
   "execution_count": null,
   "metadata": {},
   "outputs": [],
   "source": [
    "karate_com_eb = karate.community_edge_betweenness()\n",
    "karate_com_fg = karate.community_fastgreedy()\n",
    "karate_com_im = karate.community_infomap()\n",
    "karate_com_lp = karate.community_label_propagation()\n",
    "karate_com_om = karate.community_optimal_modularity()\n",
    "karate_com_wt = karate.community_walktrap()"
   ]
  },
  {
   "cell_type": "markdown",
   "metadata": {},
   "source": [
    "#### Dendogram"
   ]
  },
  {
   "cell_type": "code",
   "execution_count": null,
   "metadata": {},
   "outputs": [],
   "source": [
    "ig.plot(karate_com_wt,'karate_dendogram.pdf',bbox=(300,500))"
   ]
  },
  {
   "cell_type": "markdown",
   "metadata": {},
   "source": [
    "#### Communities and Memberships"
   ]
  },
  {
   "cell_type": "code",
   "execution_count": null,
   "metadata": {},
   "outputs": [],
   "source": [
    "print '# of Communities using Edge Betweenness:' , len(set(karate_com_eb.as_clustering().membership))\n",
    "print '# of Communities using Fast Greedy:' , len(set(karate_com_fg.as_clustering().membership)) #cuts the dendrogram at the given level \n",
    "print '# of Communities using InfoMap:' , len(set(karate_com_im.membership))\n",
    "print '# of Communities using Label Propagation:' , len(set(karate_com_lp.membership))\n",
    "print '# of Communities using Optimal Modularity:' , len(set(karate_com_om.membership))\n",
    "print '# of Communities using Walk Trap:' , len(set(karate_com_wt.as_clustering().membership)) #karate_com_wt.optimal_count"
   ]
  },
  {
   "cell_type": "code",
   "execution_count": null,
   "metadata": {},
   "outputs": [],
   "source": [
    "print 'Modularity using Edge Betweenness:' , (karate_com_eb.as_clustering()).modularity\n",
    "print 'Modularity using Fast Greedy:' , (karate_com_fg.as_clustering()).modularity\n",
    "print 'Modularity using InfoMap:' , karate_com_im.modularity\n",
    "print 'Modularity using Label Propagation:' , karate_com_lp.modularity\n",
    "print 'Modularity using Optimal Modularity:' , karate_com_om.modularity\n",
    "print 'Modularity using Walk Trap:' , (karate_com_wt.as_clustering()).modularity"
   ]
  },
  {
   "cell_type": "code",
   "execution_count": null,
   "metadata": {},
   "outputs": [],
   "source": [
    "print '# of Clusters:', len(set(karate.clusters().membership))"
   ]
  },
  {
   "cell_type": "code",
   "execution_count": null,
   "metadata": {},
   "outputs": [],
   "source": [
    "keb.q"
   ]
  },
  {
   "cell_type": "markdown",
   "metadata": {},
   "source": [
    "### Facebook "
   ]
  },
  {
   "cell_type": "code",
   "execution_count": null,
   "metadata": {},
   "outputs": [],
   "source": [
    "fb = ig.Graph()\n",
    "edges = pd.read_csv('0.edges',sep=' ' ,header=None)\n",
    "edges.columns = ['to','from']\n",
    "print len(edges)"
   ]
  },
  {
   "cell_type": "code",
   "execution_count": null,
   "metadata": {},
   "outputs": [],
   "source": [
    "sampled_edges = edges.sample(frac=0.25)"
   ]
  },
  {
   "cell_type": "code",
   "execution_count": null,
   "metadata": {},
   "outputs": [],
   "source": [
    "sampled_edges.to_csv('fb_sampled')"
   ]
  },
  {
   "cell_type": "code",
   "execution_count": null,
   "metadata": {},
   "outputs": [],
   "source": [
    "edges = sampled_edges"
   ]
  },
  {
   "cell_type": "code",
   "execution_count": null,
   "metadata": {},
   "outputs": [],
   "source": [
    "vertices = range(len(edges))\n",
    "\n",
    "fb.add_vertices(vertices)\n",
    "fb.add_edges(edges[['to','from']].values)\n",
    "\n",
    "print 'assortativity', fb.assortativity_degree()\n",
    "print 'modularity', fb.community_infomap().modularity\n",
    "\n",
    "\n",
    "g3 = fb.components().giant().as_undirected(combine_edges='sum')\n",
    "pagerank = g3.pagerank(weights=None)\n",
    "bett = g3.edge_betweenness()\n",
    "cmm = g3.community_walktrap(weights=None)\n",
    "\n",
    "\n",
    "\n",
    "print 'memberships', len(set(cmm.as_clustering().membership))\n",
    "\n",
    "#import names\n",
    "##create random names\n",
    "#namelist = list()\n",
    "#for i in range(len(fb.vs)):\n",
    "#    namelist.append(names.get_full_name())\n",
    "#fb.vs['name'] = namelist\n",
    "\n",
    "deg = fb.components().giant().degree_distribution()\n",
    "\n",
    "ig.plot(cmm.as_clustering(), 'facebook.pdf', bbox=[600, 350],\n",
    "        vertex_size=ig.rescale(bett,out_range=(5,15)),\n",
    "        vertex_label_size=ig.rescale(pagerank,out_range=(2,12)),\n",
    "        #vertex_label=g3.vs['name'],\n",
    "        vertex_frame_width=0)"
   ]
  },
  {
   "cell_type": "markdown",
   "metadata": {},
   "source": [
    "### WWW"
   ]
  },
  {
   "cell_type": "code",
   "execution_count": null,
   "metadata": {},
   "outputs": [],
   "source": [
    "www = pd.read_csv('web-Google.txt', header = None, sep = '\\t')"
   ]
  },
  {
   "cell_type": "code",
   "execution_count": null,
   "metadata": {},
   "outputs": [],
   "source": [
    "www.columns = ['FromNodeId','ToNodeId']"
   ]
  },
  {
   "cell_type": "code",
   "execution_count": null,
   "metadata": {},
   "outputs": [],
   "source": [
    "webg = ig.Graph(directed=True)"
   ]
  },
  {
   "cell_type": "code",
   "execution_count": null,
   "metadata": {},
   "outputs": [],
   "source": [
    "edges = www[['FromNodeId','ToNodeId']].values\n",
    "vertices = range(len(edges))\n",
    "\n",
    "webg.add_vertices(vertices)\n",
    "webg.add_edges(edges)"
   ]
  },
  {
   "cell_type": "code",
   "execution_count": null,
   "metadata": {},
   "outputs": [],
   "source": [
    "webGiant = webg.components().giant()"
   ]
  },
  {
   "cell_type": "code",
   "execution_count": null,
   "metadata": {},
   "outputs": [],
   "source": [
    "set(webGiant.components().membership)"
   ]
  },
  {
   "cell_type": "code",
   "execution_count": null,
   "metadata": {},
   "outputs": [],
   "source": [
    "ig.plot(webGiant)"
   ]
  },
  {
   "cell_type": "code",
   "execution_count": null,
   "metadata": {},
   "outputs": [],
   "source": [
    "comm = webGiant.community_walktrap()\n",
    "comm.as_clustering()"
   ]
  },
  {
   "cell_type": "code",
   "execution_count": null,
   "metadata": {},
   "outputs": [],
   "source": [
    "cmm = g3.community_walktrap(weights=None)\n",
    "ig.plot(cmm.as_clustering(), bbox=[200, 200],\n",
    "        vertex_size=ig.rescale(pagerank,out_range=(1,12)),\n",
    "        vertex_label_size=ig.rescale(pagerank,out_range=(2,12)),\n",
    "        vertex_label=g3.vs['id'],\n",
    "        vertex_frame_width=0)"
   ]
  },
  {
   "cell_type": "markdown",
   "metadata": {},
   "source": [
    "### American College Football"
   ]
  },
  {
   "cell_type": "code",
   "execution_count": null,
   "metadata": {},
   "outputs": [],
   "source": [
    "football = ig.read('football.gml')\n",
    "\n",
    "ig.plot(football, 'nocomm_football.pdf', bbox=(1000, 750), vertex_label=football.vs['label'], vertex_size=2, vertex_color='red', vertex_label_color='blue', vertex_label_size=11 ,edge_color='light gray')\n",
    "\n",
    "#print 'is weighted?', f.is_weighted()\n",
    "#\n",
    "#print 'Clusters =', f.clusters(mode=1), f.clusters(mode=2)\n",
    "#\n",
    "#print 'components', f.components(mode=1)\n",
    "#print (f.degree_distribution(bin_width=1))\n",
    "#\n",
    "#print 'assortativity', f.assortativity_degree()\n",
    "#\n",
    "#fm = f.community_infomap()\n",
    "#print 'modularity', fm.modularity\n",
    "#\n",
    "#ff = f.community_fastgreedy()\n",
    "#print 'membership set', set(ff.as_clustering().membership)\n",
    "\n",
    "\n",
    "comp_football = football.components().giant().as_undirected(combine_edges='sum')\n",
    "pagerank = comp_football.pagerank(weights=None)\n",
    "comm_football = comp_football.community_fastgreedy(weights=None)\n",
    "ig.plot(comm_football.as_clustering(), 'football2.pdf', bbox=[1000, 750],\n",
    "        vertex_label=comp_football.vs['label'], \n",
    "        vertex_label_color='dark blue', edge_color='light gray',\n",
    "        vertex_size=ig.rescale(pagerank,out_range=(4,14)),\n",
    "        vertex_label_size=ig.rescale(pagerank,out_range=(2,10)),\n",
    "        vertex_frame_width=0)\n"
   ]
  },
  {
   "cell_type": "markdown",
   "metadata": {},
   "source": [
    "### Amazon bought together"
   ]
  },
  {
   "cell_type": "code",
   "execution_count": null,
   "metadata": {},
   "outputs": [],
   "source": [
    "amazon = pd.read_csv('Amazon0302.txt', header = False, sep = '\\t')"
   ]
  },
  {
   "cell_type": "code",
   "execution_count": null,
   "metadata": {},
   "outputs": [],
   "source": [
    "amazon.columns=['FromNodeId', 'ToNodeId']"
   ]
  },
  {
   "cell_type": "code",
   "execution_count": null,
   "metadata": {},
   "outputs": [],
   "source": [
    "amazon.head()"
   ]
  },
  {
   "cell_type": "code",
   "execution_count": null,
   "metadata": {},
   "outputs": [],
   "source": [
    "amazong = ig.Graph(directed=True)"
   ]
  },
  {
   "cell_type": "code",
   "execution_count": null,
   "metadata": {},
   "outputs": [],
   "source": [
    "edges = amazon[['FromNodeId','ToNodeId']].values"
   ]
  },
  {
   "cell_type": "code",
   "execution_count": null,
   "metadata": {},
   "outputs": [],
   "source": [
    "vertices = range(len(edges))"
   ]
  },
  {
   "cell_type": "code",
   "execution_count": null,
   "metadata": {},
   "outputs": [],
   "source": [
    "amazong.add_vertices(vertices)\n",
    "amazong.add_edges(edges)"
   ]
  },
  {
   "cell_type": "code",
   "execution_count": null,
   "metadata": {},
   "outputs": [],
   "source": [
    "amazongiant = amazong.components().giant()"
   ]
  },
  {
   "cell_type": "code",
   "execution_count": null,
   "metadata": {},
   "outputs": [],
   "source": [
    "print amazong.summary(), amazongiant.summary()"
   ]
  },
  {
   "cell_type": "code",
   "execution_count": null,
   "metadata": {},
   "outputs": [],
   "source": [
    "amazongiant.assortativity_degree()"
   ]
  },
  {
   "cell_type": "markdown",
   "metadata": {},
   "source": []
  },
  {
   "cell_type": "markdown",
   "metadata": {},
   "source": []
  },
  {
   "cell_type": "code",
   "execution_count": null,
   "metadata": {},
   "outputs": [],
   "source": []
  }
 ],
 "metadata": {
  "kernelspec": {
   "display_name": "Python 3",
   "language": "python",
   "name": "python3"
  },
  "language_info": {
   "codemirror_mode": {
    "name": "ipython",
    "version": 3
   },
   "file_extension": ".py",
   "mimetype": "text/x-python",
   "name": "python",
   "nbconvert_exporter": "python",
   "pygments_lexer": "ipython3",
   "version": "3.6.2"
  }
 },
 "nbformat": 4,
 "nbformat_minor": 1
}
